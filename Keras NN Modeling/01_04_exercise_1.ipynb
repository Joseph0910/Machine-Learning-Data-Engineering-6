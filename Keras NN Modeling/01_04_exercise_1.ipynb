{
  "nbformat": 4,
  "nbformat_minor": 0,
  "metadata": {
    "colab": {
      "name": "01-04-exercise-1.ipynb",
      "provenance": [],
      "collapsed_sections": [],
      "authorship_tag": "ABX9TyNUUjNHCiYxgBptVP9gTuRL",
      "include_colab_link": true
    },
    "kernelspec": {
      "name": "python3",
      "display_name": "Python 3"
    },
    "accelerator": "GPU"
  },
  "cells": [
    {
      "cell_type": "markdown",
      "metadata": {
        "id": "view-in-github",
        "colab_type": "text"
      },
      "source": [
        "<a href=\"https://colab.research.google.com/github/sujitpal/keras-tutorial-osdc2020/blob/master/01_04_exercise_1.ipynb\" target=\"_parent\"><img src=\"https://colab.research.google.com/assets/colab-badge.svg\" alt=\"Open In Colab\"/></a>"
      ]
    },
    {
      "cell_type": "markdown",
      "metadata": {
        "id": "RzUoZpZ_yY85"
      },
      "source": [
        "# Exercise 1\n",
        "\n",
        "In this exercise, we will construct a CNN model to classify images using the CIFAR-10 dataset.\n",
        "\n",
        "We will try to improve the quality of the classification using some strategies we listed in the previous notebook.\n",
        "\n",
        "* Increase number of layers.\n",
        "* Try regularization\n",
        "  * L1, L2, L1+L2\n",
        "  * Dropout.\n",
        "  * BatchNorm.\n",
        "* Adjust optimizer learning rate.\n",
        "* Try out other optimizers.\n",
        "* Adjust batch size.\n",
        "\n",
        "We will also look at a data oriented approach which can also often help with performance.\n",
        "\n",
        "* Data augmentation\n",
        "\n",
        "__NOTE__: if you haven't already done so, set your runtime to use GPU (Runtime :: Change Runtime Type :: GPU). You will need it for this exercise.\n"
      ]
    },
    {
      "cell_type": "code",
      "metadata": {
        "id": "pXy7tDgDySmh"
      },
      "source": [
        "import matplotlib.pyplot as plt\n",
        "import numpy as np\n",
        "\n",
        "import tensorflow as tf\n",
        "import tensorflow.keras as keras\n",
        "\n",
        "%matplotlib inline"
      ],
      "execution_count": 1,
      "outputs": []
    },
    {
      "cell_type": "markdown",
      "metadata": {
        "id": "YZGKSWNb_Bgc"
      },
      "source": [
        "## Common Utilities"
      ]
    },
    {
      "cell_type": "code",
      "metadata": {
        "id": "eR7Qszt1_AeJ"
      },
      "source": [
        "def plot_training_curves(history):\n",
        "  epochs = np.arange(len(history.history[\"loss\"]))\n",
        "  plt.figure(figsize=(10, 5))\n",
        "\n",
        "  plt.subplot(1, 2, 1)\n",
        "  plt.plot(epochs, history.history[\"loss\"], label=\"training\")\n",
        "  plt.plot(epochs, history.history[\"val_loss\"], label=\"validation\")\n",
        "  plt.xlabel(\"epochs\")\n",
        "  plt.ylabel(\"loss\")\n",
        "  plt.legend(loc=\"best\")\n",
        "\n",
        "  plt.subplot(1, 2, 2)\n",
        "  plt.plot(epochs, history.history[\"accuracy\"], label=\"training\")\n",
        "  plt.plot(epochs, history.history[\"val_accuracy\"], label=\"validation\")\n",
        "  plt.xlabel(\"epochs\")\n",
        "  plt.ylabel(\"accuracy\")\n",
        "  plt.legend(loc=\"best\")\n",
        "\n",
        "  plt.tight_layout()\n",
        "  _ = plt.show()\n"
      ],
      "execution_count": 2,
      "outputs": []
    },
    {
      "cell_type": "markdown",
      "metadata": {
        "id": "0vGb9NLRzb2P"
      },
      "source": [
        "## Dataset\n",
        "\n",
        "Dataset is available through `keras.datasets`. Each image is of size (32, 32, 3). Labels are 0-9 indicating one of 10 classes.\n",
        "\n",
        "* Normalize the image pixel values to the 0-1 range.\n",
        "* Convert the image matrix to float32.\n",
        "* One-hot encode the labels."
      ]
    },
    {
      "cell_type": "code",
      "metadata": {
        "id": "NU7dQDgUzup9",
        "outputId": "e812c3db-9eb2-4cab-caac-5b9bc4d04659",
        "colab": {
          "base_uri": "https://localhost:8080/",
          "height": 68
        }
      },
      "source": [
        "(Xtrain, ytrain), (Xtest, ytest) = keras.datasets.cifar10.load_data()\n",
        "\n",
        "Xtrain.shape, ytrain.shape, Xtest.shape, ytest.shape"
      ],
      "execution_count": 3,
      "outputs": [
        {
          "output_type": "stream",
          "text": [
            "Downloading data from https://www.cs.toronto.edu/~kriz/cifar-10-python.tar.gz\n",
            "170500096/170498071 [==============================] - 11s 0us/step\n"
          ],
          "name": "stdout"
        },
        {
          "output_type": "execute_result",
          "data": {
            "text/plain": [
              "((50000, 32, 32, 3), (50000, 1), (10000, 32, 32, 3), (10000, 1))"
            ]
          },
          "metadata": {
            "tags": []
          },
          "execution_count": 3
        }
      ]
    },
    {
      "cell_type": "code",
      "metadata": {
        "id": "3gR3FllA0KBV",
        "outputId": "41639bee-6801-4219-a07d-ed9ffc9f67b6",
        "colab": {
          "base_uri": "https://localhost:8080/",
          "height": 115
        }
      },
      "source": [
        "# from https://www.cs.toronto.edu/~kriz/cifar.html\n",
        "id2label = {i:x for i, x in enumerate(\n",
        "    [\"airplane\", \"automobile\", \"bird\", \"cat\", \"deer\",\n",
        "     \"dog\", \"frog\", \"horse\", \"ship\", \"truck\"])}\n",
        "image_ids = np.random.randint(0, high=Xtrain.shape[0], size=5)\n",
        "\n",
        "for i, image_id in enumerate(image_ids):\n",
        "  plt.subplot(1, 5, (i+1))\n",
        "  plt.imshow(Xtrain[image_id])\n",
        "  plt.title(id2label[ytrain[image_id][0]])\n",
        "  plt.xticks([])\n",
        "  plt.yticks([])\n",
        "\n",
        "plt.tight_layout()\n",
        "_ = plt.show()"
      ],
      "execution_count": 4,
      "outputs": [
        {
          "output_type": "display_data",
          "data": {
            "image/png": "[encoded data removed]",
            "text/plain": [
              "<Figure size 432x288 with 5 Axes>"
            ]
          },
          "metadata": {
            "tags": []
          }
        }
      ]
    },
    {
      "cell_type": "code",
      "metadata": {
        "id": "UF_l2sH_7HSE"
      },
      "source": [
        "# TODO: cast the input tensors to float32\n"
      ],
      "execution_count": 5,
      "outputs": []
    },
    {
      "cell_type": "code",
      "metadata": {
        "id": "mW2ZAx8yRK5p"
      },
      "source": [
        "# TODO: convert pixels from 0-255 range to 0-1 range\n"
      ],
      "execution_count": 6,
      "outputs": []
    },
    {
      "cell_type": "code",
      "metadata": {
        "id": "Txb5a9IK6QHF"
      },
      "source": [
        "# TODO: one hot encode the labels\n"
      ],
      "execution_count": 7,
      "outputs": []
    },
    {
      "cell_type": "markdown",
      "metadata": {
        "id": "d12C3qT03CQT"
      },
      "source": [
        "## Model 1 -- baseline\n",
        "\n",
        "Build a CNN that will accept CIFAR-10 images and return a 10 way classification.\n",
        "\n",
        "Your model should use a single convolution + pooling layer, and two Dense layers. The convolution layer should have 32 filters, each of size (3, 3). The pooling layer should be a max pooling layer with pool size (2, 2).\n",
        "\n",
        "The number of hidden units in the first dense layer should be 512. The second dense layer is the output layer.\n",
        "\n",
        "Since this is a n-way (n > 2) classification problem, use the categorical cross-entropy loss function. For this example, use the RMSProp optimizer, and accuracy as your metric.\n",
        "\n",
        "Train your model for 5 epochs with a batch size of 128, using 20% of the training data for inline validation."
      ]
    },
    {
      "cell_type": "code",
      "metadata": {
        "id": "dYA-5Jcj1_yi"
      },
      "source": [
        "# TODO: define model as model_1\n"
      ],
      "execution_count": 8,
      "outputs": []
    },
    {
      "cell_type": "code",
      "metadata": {
        "id": "NABgGtmp2IKd"
      },
      "source": [
        "# TODO: compile model_1\n"
      ],
      "execution_count": 9,
      "outputs": []
    },
    {
      "cell_type": "code",
      "metadata": {
        "id": "XM2hE2hc5wsb"
      },
      "source": [
        "# TODO: train model_1, save output of fit() into history_1\n"
      ],
      "execution_count": 10,
      "outputs": []
    },
    {
      "cell_type": "code",
      "metadata": {
        "id": "E7_rhc5e-wfC"
      },
      "source": [
        "# TODO (optional): plot training plots for history_1 (or use Tensorboard)\n",
        "# plot_training_curves(history_1)"
      ],
      "execution_count": 11,
      "outputs": []
    },
    {
      "cell_type": "markdown",
      "metadata": {
        "id": "cW1in4-i_T-5"
      },
      "source": [
        "## Model 2 -- increase number of conv/pool layers\n",
        "\n",
        "Modify the model you just created and add in 2 additional convolution + pooling layers, with 64 and 128 filters respectively, all other parameters remaining the same.\n",
        "\n",
        "Call this model 2."
      ]
    },
    {
      "cell_type": "code",
      "metadata": {
        "id": "vbr6y-Ze8xnv"
      },
      "source": [
        "# TODO: define model as model_2\n"
      ],
      "execution_count": 12,
      "outputs": []
    },
    {
      "cell_type": "code",
      "metadata": {
        "id": "55FEGSeUAfyf"
      },
      "source": [
        "# TODO: compile model_2\n"
      ],
      "execution_count": 13,
      "outputs": []
    },
    {
      "cell_type": "code",
      "metadata": {
        "id": "Jr5VPiJZAl2q"
      },
      "source": [
        "# TODO: train model_2, save output of fit() into history_2\n"
      ],
      "execution_count": 14,
      "outputs": []
    },
    {
      "cell_type": "code",
      "metadata": {
        "id": "ULZCXC3_Ar7Z"
      },
      "source": [
        "# TODO (optional): plot training plots for history_2 (or use Tensorboard)\n",
        "# plot_training_curves(history_2)"
      ],
      "execution_count": 15,
      "outputs": []
    },
    {
      "cell_type": "markdown",
      "metadata": {
        "id": "e5vLPHX4Bb0N"
      },
      "source": [
        "## Model 3: Dense layer regularization (L1, L2)\n",
        "\n",
        "Modify the original model (`model_1`) to add weight regularization to the first Dense layer. Apply the following regularization:\n",
        "\n",
        "* kerner_regularizer=`l1l2(l1=1e-5, l2=1e-4)`\n",
        "* bias_regularizer=`l2(1e-4)`\n",
        "* activity_regularizer=`l2(1e-5)`"
      ]
    },
    {
      "cell_type": "code",
      "metadata": {
        "id": "2wzqTkZ0BWa6"
      },
      "source": [
        "# TODO: define model as model_3\n"
      ],
      "execution_count": 16,
      "outputs": []
    },
    {
      "cell_type": "code",
      "metadata": {
        "id": "mXuY72YoC7vU"
      },
      "source": [
        "# TODO: compile model_3\n"
      ],
      "execution_count": 17,
      "outputs": []
    },
    {
      "cell_type": "code",
      "metadata": {
        "id": "7letJpwfDLA5"
      },
      "source": [
        "# TODO: train model_3, save output of fit() into history_3\n"
      ],
      "execution_count": 18,
      "outputs": []
    },
    {
      "cell_type": "code",
      "metadata": {
        "id": "D9GD9rlrDQpA"
      },
      "source": [
        "# TODO (optional): plot training plots for history_3 (or use Tensorboard)\n",
        "# plot_training_curves(history_3)"
      ],
      "execution_count": 19,
      "outputs": []
    },
    {
      "cell_type": "markdown",
      "metadata": {
        "id": "75Urh6WaDi-E"
      },
      "source": [
        "## Model 4: Add Dropout regularization\n",
        "\n",
        "Modify `model_1` to add a `Dropout` layer between the two Dense layers in the network, such that during training, around 40% of the input neurons are dropped."
      ]
    },
    {
      "cell_type": "code",
      "metadata": {
        "id": "QOIFqA5gDaVu"
      },
      "source": [
        "# TODO: define model as model_4\n"
      ],
      "execution_count": 20,
      "outputs": []
    },
    {
      "cell_type": "code",
      "metadata": {
        "id": "sE8kkqoWEAt0"
      },
      "source": [
        "# TODO: compile model_4\n"
      ],
      "execution_count": 21,
      "outputs": []
    },
    {
      "cell_type": "code",
      "metadata": {
        "id": "d2hCWdBEEGvo"
      },
      "source": [
        "# TODO: train model_4, save output of fit() into history_4\n"
      ],
      "execution_count": 22,
      "outputs": []
    },
    {
      "cell_type": "code",
      "metadata": {
        "id": "NMy55AXaENOP"
      },
      "source": [
        "# TODO (optional): plot training plots for history_4 (or use Tensorboard)\n",
        "# plot_training_curves(history_4)"
      ],
      "execution_count": 23,
      "outputs": []
    },
    {
      "cell_type": "markdown",
      "metadata": {
        "id": "mmN4S4rvEnO-"
      },
      "source": [
        "## Model 5: Add BatchNorm\n",
        "\n",
        "Modify `model_1` to add a `BatchNorm` layer after the `Conv2D` layer. This ensures that the input is centered around mean 0 and has standard deviation 1."
      ]
    },
    {
      "cell_type": "code",
      "metadata": {
        "id": "MLcBsT-lEY2I"
      },
      "source": [
        "# TODO: define model as model_5\n"
      ],
      "execution_count": 24,
      "outputs": []
    },
    {
      "cell_type": "code",
      "metadata": {
        "id": "schHPfoHHi8S"
      },
      "source": [
        "# TODO: compile model_5\n"
      ],
      "execution_count": 25,
      "outputs": []
    },
    {
      "cell_type": "code",
      "metadata": {
        "id": "XnpUBlORHqOW"
      },
      "source": [
        "# TODO: train model_5, save output of fit() into history_5\n"
      ],
      "execution_count": 26,
      "outputs": []
    },
    {
      "cell_type": "code",
      "metadata": {
        "id": "hVa_gEe_HwRU"
      },
      "source": [
        "# TODO (optional): plot training plots for history_5 (or use Tensorboard)\n",
        "# plot_training_curves(history_5)"
      ],
      "execution_count": 27,
      "outputs": []
    },
    {
      "cell_type": "markdown",
      "metadata": {
        "id": "Zf9UhDQcOiE7"
      },
      "source": [
        "## Model 6: Adjust Learning Rate\n",
        "\n",
        "Train the baseline model `model_1` using the `RMSProp` optimizer with `learning_rate` set to `5e-3`."
      ]
    },
    {
      "cell_type": "code",
      "metadata": {
        "id": "ykxWHMO-PA9d"
      },
      "source": [
        "# TODO: define model as model_6\n"
      ],
      "execution_count": 28,
      "outputs": []
    },
    {
      "cell_type": "code",
      "metadata": {
        "id": "1uRD3-4YPLTC"
      },
      "source": [
        "# TODO: compile model_6\n"
      ],
      "execution_count": 29,
      "outputs": []
    },
    {
      "cell_type": "code",
      "metadata": {
        "id": "cLGPGi82PV8R"
      },
      "source": [
        "# TODO: train model_6, save output of fit() into history_6\n"
      ],
      "execution_count": 30,
      "outputs": []
    },
    {
      "cell_type": "code",
      "metadata": {
        "id": "vxfoeLa5Pha8"
      },
      "source": [
        "# TODO (optional): plot training plots for history_6 (or use Tensorboard)\n",
        "# plot_training_curves(history_6)"
      ],
      "execution_count": 31,
      "outputs": []
    },
    {
      "cell_type": "markdown",
      "metadata": {
        "id": "3yqN4b4bJRjM"
      },
      "source": [
        "## Model 7: Choose a different optimizer\n",
        "\n",
        "Switch out `RMSProp` with the `Adam` optimizer, with learning rate of `1e-3`."
      ]
    },
    {
      "cell_type": "code",
      "metadata": {
        "id": "kyx9aRv7H-PK"
      },
      "source": [
        "# TODO: define model as model_7\n"
      ],
      "execution_count": 32,
      "outputs": []
    },
    {
      "cell_type": "code",
      "metadata": {
        "id": "u3TtZe-QJ45R"
      },
      "source": [
        "# TODO: compile model_7\n"
      ],
      "execution_count": 33,
      "outputs": []
    },
    {
      "cell_type": "code",
      "metadata": {
        "id": "iPHAsZaTKFCm"
      },
      "source": [
        "# TODO: train model_7, save output of fit() into history_7\n"
      ],
      "execution_count": 34,
      "outputs": []
    },
    {
      "cell_type": "code",
      "metadata": {
        "id": "mbuuvJRsKL3d"
      },
      "source": [
        "# TODO (optional): plot training plots for history_5 (or use Tensorboard)\n",
        "# plot_training_curves(history_7)"
      ],
      "execution_count": 35,
      "outputs": []
    },
    {
      "cell_type": "markdown",
      "metadata": {
        "id": "t7qsUNqCKkGr"
      },
      "source": [
        "## Model 8: Change Batch Size\n",
        "\n",
        "Retrain `model_1` using a smaller batch size of 64."
      ]
    },
    {
      "cell_type": "code",
      "metadata": {
        "id": "4kmMDJxJKXDl"
      },
      "source": [
        "# TODO: define model as model_8\n"
      ],
      "execution_count": 36,
      "outputs": []
    },
    {
      "cell_type": "code",
      "metadata": {
        "id": "h9TmZ6xVKvkx"
      },
      "source": [
        "# TODO: compile model_8\n"
      ],
      "execution_count": 37,
      "outputs": []
    },
    {
      "cell_type": "code",
      "metadata": {
        "id": "J_Op3fe3K5U1"
      },
      "source": [
        "# TODO: train model_8, save output of fit() into history_8\n"
      ],
      "execution_count": 38,
      "outputs": []
    },
    {
      "cell_type": "code",
      "metadata": {
        "id": "9CGFK6dyLB76"
      },
      "source": [
        "# TODO (optional): plot training plots for history_8 (or use Tensorboard)\n",
        "# plot_training_curves(history_8)"
      ],
      "execution_count": 39,
      "outputs": []
    },
    {
      "cell_type": "markdown",
      "metadata": {
        "id": "2BtNG46PMPnR"
      },
      "source": [
        "## Model 9: Data Augmentation\n",
        "\n",
        "The intuition here is that the mirror image of a truck or a horse is just as much a truck or horse as the original. Same goes for if the image was viewed from a different angle. The Keras `ImageDataGenerator` provides many ways to transform the input into an infinite stream of slightly different images. \n",
        "\n",
        "Note that the transformations you allow it to do will depend on the application. For example, for many applications it wouldn't make sense to do vertical mirror images, although for some it might.\n",
        "\n",
        "Next we want to augment our data. See the Keras documentation for [an example of how to use ImageDataGenerator](https://keras.io/api/preprocessing/image/)."
      ]
    },
    {
      "cell_type": "code",
      "metadata": {
        "id": "MrgsZdReLJ2a"
      },
      "source": [
        "# TODO: declare the ImageDataGenerator\n",
        "from keras.preprocessing.image import ImageDataGenerator\n"
      ],
      "execution_count": 40,
      "outputs": []
    },
    {
      "cell_type": "code",
      "metadata": {
        "id": "uhy8hSREfvsK"
      },
      "source": [
        "# TODO: define model as model_9\n"
      ],
      "execution_count": 41,
      "outputs": []
    },
    {
      "cell_type": "code",
      "metadata": {
        "id": "QFIxMhUGhQMd"
      },
      "source": [
        "# TODO: compile model_9\n"
      ],
      "execution_count": 42,
      "outputs": []
    },
    {
      "cell_type": "code",
      "metadata": {
        "id": "QJcRw3O_ghYW"
      },
      "source": [
        "# TODO: split the Xtrain and ytrain into 80/20 train and validation sets\n"
      ],
      "execution_count": 43,
      "outputs": []
    },
    {
      "cell_type": "code",
      "metadata": {
        "id": "6D56RlvKf8tK"
      },
      "source": [
        "# TODO: fit model_9 using data generator\n"
      ],
      "execution_count": 44,
      "outputs": []
    },
    {
      "cell_type": "code",
      "metadata": {
        "id": "XIIsf5EKhK2V"
      },
      "source": [
        "# TODO (optional): plot training plots for history_9 (or use Tensorboard)\n",
        "# plot_training_curves(history_9)"
      ],
      "execution_count": 45,
      "outputs": []
    },
    {
      "cell_type": "markdown",
      "metadata": {
        "id": "Qpo26Jv2jET1"
      },
      "source": [
        "## Summary of Results"
      ]
    },
    {
      "cell_type": "code",
      "metadata": {
        "id": "Uy79nAPSi-RO"
      },
      "source": [
        "def plot_accuracies(methods, histories):\n",
        "  train_accs, val_accs = [], []\n",
        "  for method, history in zip(methods, histories):\n",
        "    train_accs.append(history.history[\"accuracy\"][-1])\n",
        "    val_accs.append(history.history[\"val_accuracy\"][-1])\n",
        "\n",
        "  xs = np.arange(len(methods))\n",
        "  width = 0.35\n",
        "  plt.bar(xs, train_accs, width, color=\"b\", label=\"train\")\n",
        "  plt.bar(xs+width, val_accs, width, color=\"orange\", label=\"val\")\n",
        "  plt.axhline(y=train_accs[0], linestyle=\"--\", color=\"b\", xmin=0, xmax=1)\n",
        "  plt.axhline(y=val_accs[0], linestyle=\"--\", color=\"orange\", xmin=0, xmax=1)\n",
        "  plt.ylabel(\"accuracy\")\n",
        "  plt.xticks(xs, methods, rotation=90)\n",
        "  plt.legend(loc=\"best\")\n",
        "  _ = plt.show()\n",
        "\n",
        "\n",
        "# methods = [\n",
        "#   \"baseline\",\n",
        "#   \"deeper network\",\n",
        "#   \"L1/L2 regularization\",\n",
        "#   \"dropout\",\n",
        "#   \"batchnorm\",\n",
        "#   \"learning rate\",\n",
        "#   \"optimizer\",\n",
        "#   \"batch size\",\n",
        "#   \"data augmentation\"\n",
        "# ]\n",
        "# histories = [history_1, history_2, history_3,\n",
        "#              history_4, history_5, history_6,\n",
        "#              history_7, history_8, history_9]\n",
        "\n",
        "# plot_accuracies(methods, histories)"
      ],
      "execution_count": 46,
      "outputs": []
    },
    {
      "cell_type": "markdown",
      "metadata": {
        "id": "GecmLA9UdcQQ"
      },
      "source": [
        "## Final Model: combine features\n",
        "\n",
        "Now combine features that have shown good results, and train for 20 epochs.\n",
        "\n",
        "Finally evaluate the trained model against the test set and report test set accuracy."
      ]
    },
    {
      "cell_type": "code",
      "metadata": {
        "id": "Sf5woEUJkefB"
      },
      "source": [
        "# TODO: define model as model_f"
      ],
      "execution_count": 47,
      "outputs": []
    },
    {
      "cell_type": "code",
      "metadata": {
        "id": "ffn0OKpKdkQz"
      },
      "source": [
        "# TODO: compile model"
      ],
      "execution_count": 48,
      "outputs": []
    },
    {
      "cell_type": "code",
      "metadata": {
        "id": "TMr9B6Sndm6Y"
      },
      "source": [
        "# TODO: train model (20 epochs)"
      ],
      "execution_count": 49,
      "outputs": []
    },
    {
      "cell_type": "code",
      "metadata": {
        "id": "NZrAtZGZdpqv"
      },
      "source": [
        "# TODO: evaluate against test set, report test accuracy"
      ],
      "execution_count": 50,
      "outputs": []
    },
    {
      "cell_type": "code",
      "metadata": {
        "id": "V5mJCtQHdzJf"
      },
      "source": [
        ""
      ],
      "execution_count": 50,
      "outputs": []
    }
  ]
}