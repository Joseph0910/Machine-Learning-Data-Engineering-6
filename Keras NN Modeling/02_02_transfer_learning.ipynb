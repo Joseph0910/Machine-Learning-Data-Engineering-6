{
  "nbformat": 4,
  "nbformat_minor": 0,
  "metadata": {
    "colab": {
      "name": "02-02-transfer-learning.ipynb",
      "provenance": [],
      "collapsed_sections": [],
      "authorship_tag": "ABX9TyOCz5VruMgSkGg3GlCS0k1W",
      "include_colab_link": true
    },
    "kernelspec": {
      "name": "python3",
      "display_name": "Python 3"
    },
    "accelerator": "GPU"
  },
  "cells": [
    {
      "cell_type": "markdown",
      "metadata": {
        "id": "view-in-github",
        "colab_type": "text"
      },
      "source": [
        "<a href=\"https://colab.research.google.com/github/sujitpal/keras-tutorial-osdc2020/blob/master/02_02_transfer_learning.ipynb\" target=\"_parent\"><img src=\"https://colab.research.google.com/assets/colab-badge.svg\" alt=\"Open In Colab\"/></a>"
      ]
    },
    {
      "cell_type": "markdown",
      "metadata": {
        "id": "6CpY-sX1e9py"
      },
      "source": [
        "# Transfer Learning\n",
        "\n",
        "Instead of training image classifiers from scratch, we can leverage pre-trained models in a process called Transfer Learning. \n",
        "\n",
        "The pre-trained model __does not__ predict the same classes as the model we are trying to build.\n",
        "\n",
        "The intuition is that the pre-trained classifier has learned something about images in general, and we want to reuse that information in our own classifier without having to retrain it from scratch.\n",
        "\n",
        "Typically this is done by replacing the __dense head__ of the pre-trained network with a __custom head__ that predicts one of our image classes.\n",
        "\n",
        "The weights (W and b) in the custom head are initialized randomly as normal. But the rest of the weights (in the convolution part from the pre-trained model) are initialized with the weights of the pre-trained model.\n",
        "\n",
        "Over the course of training, the weights will shift to adjust to the new objective. When we __freeze the weights__ of the pre-trained model during training and only allow the weights of our custom head to change, it is called __transfer learning__.\n",
        "\n",
        "When we allow the weights of the pre-trained part to change during training, the process is called __fine tuning__. Fine tuning requires partially tuned components (both base and head), so should be done as a second step after transfer learning.\n",
        "\n",
        "Here we will demonstrate transfer learning an [Xception network](https://arxiv.org/abs/1610.02357) to predict image classes for the CIFAR-10 dataset."
      ]
    },
    {
      "cell_type": "code",
      "metadata": {
        "id": "I91xqCG-e3og"
      },
      "source": [
        "import matplotlib.pyplot as plt\n",
        "import numpy as np\n",
        "\n",
        "import tensorflow as tf\n",
        "import tensorflow.keras as keras\n",
        "\n",
        "%matplotlib inline"
      ],
      "execution_count": null,
      "outputs": []
    },
    {
      "cell_type": "markdown",
      "metadata": {
        "id": "hna549RSHk58"
      },
      "source": [
        "## Data"
      ]
    },
    {
      "cell_type": "code",
      "metadata": {
        "id": "dVllrKbFHnXO",
        "outputId": "8904e66d-3f29-4a5b-8892-1782febe1345",
        "colab": {
          "base_uri": "https://localhost:8080/",
          "height": 34
        }
      },
      "source": [
        "(Xtrain, ytrain), (Xtest, ytest) = keras.datasets.cifar10.load_data()\n",
        "\n",
        "Xtrain = Xtrain.astype(np.float32)\n",
        "Xtest = Xtest.astype(np.float32)\n",
        "\n",
        "ytrain = keras.utils.to_categorical(ytrain, num_classes=10)\n",
        "ytest = keras.utils.to_categorical(ytest, num_classes=10)\n",
        "\n",
        "Xtrain.shape, ytrain.shape, Xtest.shape, ytest.shape"
      ],
      "execution_count": null,
      "outputs": [
        {
          "output_type": "execute_result",
          "data": {
            "text/plain": [
              "((50000, 32, 32, 3), (50000, 10), (10000, 32, 32, 3), (10000, 10))"
            ]
          },
          "metadata": {
            "tags": []
          },
          "execution_count": 2
        }
      ]
    },
    {
      "cell_type": "code",
      "metadata": {
        "id": "Sl8GvhzANSi5"
      },
      "source": [
        "cifar10_labels = [\"airplane\", \"automobile\", \"bird\", \"cat\", \"deer\",\n",
        "                  \"dog\", \"frog\", \"horse\", \"ship\", \"truck\"]"
      ],
      "execution_count": null,
      "outputs": []
    },
    {
      "cell_type": "markdown",
      "metadata": {
        "id": "P82ZdJv_JXC-"
      },
      "source": [
        "## Base Model\n",
        "\n",
        "We download the Xception model (as-is, __with__ its prediction head) and try to run some predictions against it. Main idea here is to double check compatibility of our input with the model, i.e. any resizing and preprocessing considerations.\n",
        "\n",
        "If you keep the top on, Xception expects an input size of (299, 299, 3) so we need to resize the input.\n",
        "\n",
        "The `preprocess_input` applies some pixel offsets, removing the mean from each channel.\n",
        "\n",
        "Input is an image of a frog, but Xception predicts 644 (matchstick) -- [full list of imagenet classes](https://gist.github.com/yrevar/942d3a0ac09ec9e5eb3a)."
      ]
    },
    {
      "cell_type": "code",
      "metadata": {
        "id": "bP21Z3IRF4Bn"
      },
      "source": [
        "from tensorflow.keras.applications.xception import Xception\n",
        "from tensorflow.keras.preprocessing import image\n",
        "from tensorflow.keras.applications.xception import preprocess_input\n",
        "\n",
        "base_model = Xception(weights=\"imagenet\")"
      ],
      "execution_count": null,
      "outputs": []
    },
    {
      "cell_type": "code",
      "metadata": {
        "id": "IY7pTd4WJ8SX",
        "outputId": "599ab88d-d89d-4722-d4a2-af3ed00eb34a",
        "colab": {
          "base_uri": "https://localhost:8080/",
          "height": 85
        }
      },
      "source": [
        "input = image.smart_resize(Xtrain[0], (299, 299))\n",
        "input = np.expand_dims(input, axis=0)\n",
        "input = preprocess_input(input)\n",
        "label = np.argmax(ytrain[0])\n",
        "\n",
        "prediction = base_model.predict(input)\n",
        "prediction = np.argmax(prediction)\n",
        "\n",
        "print(\"input shape:\", Xtrain[0].shape)\n",
        "print(\"after preprocessing:\", input.shape)\n",
        "\n",
        "print(\"label:\", label, cifar10_labels[label])\n",
        "print(\"prediction:\", prediction)"
      ],
      "execution_count": null,
      "outputs": [
        {
          "output_type": "stream",
          "text": [
            "input shape: (32, 32, 3)\n",
            "after preprocessing: (1, 299, 299, 3)\n",
            "label: 6 frog\n",
            "prediction: 926\n"
          ],
          "name": "stdout"
        }
      ]
    },
    {
      "cell_type": "markdown",
      "metadata": {
        "id": "AOY2iJNLPbB5"
      },
      "source": [
        "Now download a head-less model, by setting `include_top=False`. \n",
        "\n",
        "Essentially this acts as a feature encoder, taking in the image and outputting a matrix of \"features\" (which is flattened to create a feature vector).\n",
        "\n",
        "Good news is that we don't have to resize our image for a headless model."
      ]
    },
    {
      "cell_type": "code",
      "metadata": {
        "id": "0hiztwzAKAv1"
      },
      "source": [
        "base_model = Xception(weights=\"imagenet\", include_top=False)\n",
        "\n",
        "x = base_model.output\n",
        "x = keras.layers.GlobalAveragePooling2D()(x)\n",
        "x = keras.layers.BatchNormalization()(x)\n",
        "x = keras.layers.Dropout(0.2)(x)\n",
        "x = keras.layers.Dense(1024, activation='relu')(x)\n",
        "outputs = keras.layers.Dense(10, activation='softmax')(x)\n",
        "\n",
        "model = keras.models.Model(inputs=base_model.input, outputs=outputs)\n",
        "\n",
        "for layer in base_model.layers:\n",
        "    layer.trainable = False\n",
        "\n",
        "model.compile(optimizer=\"adam\", loss=\"categorical_crossentropy\", \n",
        "              metrics=[\"accuracy\"])"
      ],
      "execution_count": null,
      "outputs": []
    },
    {
      "cell_type": "code",
      "metadata": {
        "id": "7Lk91dpeWBRJ"
      },
      "source": [
        "# model.summary()"
      ],
      "execution_count": null,
      "outputs": []
    },
    {
      "cell_type": "code",
      "metadata": {
        "id": "ysJZqlKhOjGB",
        "outputId": "401f3955-08f7-4763-e5b0-50c2c438f59b",
        "colab": {
          "base_uri": "https://localhost:8080/",
          "height": 717
        }
      },
      "source": [
        "Xtrain = preprocess_input(Xtrain)\n",
        "history = model.fit(Xtrain, ytrain, batch_size=64, epochs=20, validation_split=0.2)"
      ],
      "execution_count": null,
      "outputs": [
        {
          "output_type": "stream",
          "text": [
            "Epoch 1/20\n",
            "625/625 [==============================] - 9s 15ms/step - loss: 1.9487 - accuracy: 0.3320 - val_loss: 1.7510 - val_accuracy: 0.3919\n",
            "Epoch 2/20\n",
            "625/625 [==============================] - 9s 14ms/step - loss: 1.6753 - accuracy: 0.4119 - val_loss: 1.6914 - val_accuracy: 0.4005\n",
            "Epoch 3/20\n",
            "625/625 [==============================] - 9s 14ms/step - loss: 1.5937 - accuracy: 0.4403 - val_loss: 1.7528 - val_accuracy: 0.3954\n",
            "Epoch 4/20\n",
            "625/625 [==============================] - 9s 14ms/step - loss: 1.5137 - accuracy: 0.4748 - val_loss: 1.6789 - val_accuracy: 0.4162\n",
            "Epoch 5/20\n",
            "625/625 [==============================] - 9s 14ms/step - loss: 1.4443 - accuracy: 0.4991 - val_loss: 1.7367 - val_accuracy: 0.4181\n",
            "Epoch 6/20\n",
            "625/625 [==============================] - 9s 14ms/step - loss: 1.3770 - accuracy: 0.5247 - val_loss: 1.8030 - val_accuracy: 0.4224\n",
            "Epoch 7/20\n",
            "625/625 [==============================] - 9s 14ms/step - loss: 1.3085 - accuracy: 0.5500 - val_loss: 1.9101 - val_accuracy: 0.4176\n",
            "Epoch 8/20\n",
            "625/625 [==============================] - 9s 14ms/step - loss: 1.2655 - accuracy: 0.5683 - val_loss: 1.9051 - val_accuracy: 0.4056\n",
            "Epoch 9/20\n",
            "625/625 [==============================] - 9s 14ms/step - loss: 1.2148 - accuracy: 0.5830 - val_loss: 1.9820 - val_accuracy: 0.4097\n",
            "Epoch 10/20\n",
            "625/625 [==============================] - 9s 14ms/step - loss: 1.1839 - accuracy: 0.5967 - val_loss: 2.1459 - val_accuracy: 0.4052\n",
            "Epoch 11/20\n",
            "625/625 [==============================] - 9s 14ms/step - loss: 1.1547 - accuracy: 0.6084 - val_loss: 2.1640 - val_accuracy: 0.4178\n",
            "Epoch 12/20\n",
            "625/625 [==============================] - 9s 14ms/step - loss: 1.1580 - accuracy: 0.6140 - val_loss: 2.2423 - val_accuracy: 0.4159\n",
            "Epoch 13/20\n",
            "625/625 [==============================] - 9s 14ms/step - loss: 1.1249 - accuracy: 0.6221 - val_loss: 2.3801 - val_accuracy: 0.4208\n",
            "Epoch 14/20\n",
            "625/625 [==============================] - 9s 14ms/step - loss: 1.1055 - accuracy: 0.6266 - val_loss: 2.3263 - val_accuracy: 0.4210\n",
            "Epoch 15/20\n",
            "625/625 [==============================] - 9s 14ms/step - loss: 1.0751 - accuracy: 0.6379 - val_loss: 2.3313 - val_accuracy: 0.4214\n",
            "Epoch 16/20\n",
            "625/625 [==============================] - 9s 14ms/step - loss: 1.0336 - accuracy: 0.6506 - val_loss: 2.4174 - val_accuracy: 0.4266\n",
            "Epoch 17/20\n",
            "625/625 [==============================] - 9s 14ms/step - loss: 1.0692 - accuracy: 0.6467 - val_loss: 2.4156 - val_accuracy: 0.4262\n",
            "Epoch 18/20\n",
            "625/625 [==============================] - 9s 14ms/step - loss: 1.0268 - accuracy: 0.6558 - val_loss: 2.5161 - val_accuracy: 0.4132\n",
            "Epoch 19/20\n",
            "625/625 [==============================] - 9s 14ms/step - loss: 1.0212 - accuracy: 0.6594 - val_loss: 2.6420 - val_accuracy: 0.4239\n",
            "Epoch 20/20\n",
            "625/625 [==============================] - 9s 14ms/step - loss: 1.0082 - accuracy: 0.6612 - val_loss: 2.6242 - val_accuracy: 0.4170\n"
          ],
          "name": "stdout"
        }
      ]
    },
    {
      "cell_type": "code",
      "metadata": {
        "id": "axNlC31vSN5w",
        "outputId": "cfd2fbc4-e8c9-4da1-f0af-e0d4461937d5",
        "colab": {
          "base_uri": "https://localhost:8080/",
          "height": 369
        }
      },
      "source": [
        "def plot_training_curves(history):\n",
        "  plt.figure(figsize=(10, 5))\n",
        "\n",
        "  plt.subplot(1, 2, 1)\n",
        "  plt.plot(history.history[\"loss\"], label=\"train\")\n",
        "  plt.plot(history.history[\"val_loss\"], label=\"validation\")\n",
        "  plt.xlabel(\"epochs\")\n",
        "  plt.ylabel(\"loss\")\n",
        "  plt.legend(loc=\"best\")\n",
        "\n",
        "  plt.subplot(1, 2, 2)  \n",
        "  plt.plot(history.history[\"accuracy\"], label=\"train\")\n",
        "  plt.plot(history.history[\"val_accuracy\"], label=\"validation\")\n",
        "  plt.xlabel(\"epochs\")\n",
        "  plt.ylabel(\"accuracy\")\n",
        "  plt.legend(loc=\"best\")\n",
        "\n",
        "\n",
        "  plt.tight_layout()\n",
        "  _ = plt.show()\n",
        "\n",
        "plot_training_curves(history)"
      ],
      "execution_count": null,
      "outputs": [
        {
          "output_type": "display_data",
          "data": {
            "image/png": "[encoded data removed]",
            "text/plain": [
              "<Figure size 720x360 with 2 Axes>"
            ]
          },
          "metadata": {
            "tags": [],
            "needs_background": "light"
          }
        }
      ]
    },
    {
      "cell_type": "code",
      "metadata": {
        "id": "tWTZQIZ0dZqX",
        "outputId": "b74da354-456f-4032-ea66-84e90a9f9de3",
        "colab": {
          "base_uri": "https://localhost:8080/",
          "height": 51
        }
      },
      "source": [
        "Xtest = preprocess_input(Xtest)\n",
        "scores = model.evaluate(Xtest, ytest)\n",
        "print(\"test set loss: {:.5f}, accuracy: {:.5f}\".format(scores[0], scores[1]))"
      ],
      "execution_count": null,
      "outputs": [
        {
          "output_type": "stream",
          "text": [
            "313/313 [==============================] - 3s 9ms/step - loss: 2.6954 - accuracy: 0.4181\n",
            "test set loss: 2.69540, accuracy: 0.41810\n"
          ],
          "name": "stdout"
        }
      ]
    },
    {
      "cell_type": "markdown",
      "metadata": {
        "id": "YoAd3ufgaK4m"
      },
      "source": [
        "Loss plots show that validation loss is rising and validation accuracy is flat, while the training loss and accuracy looks like what would be expected.\n",
        "\n",
        "This indicates overfitting, probably because our dataset might be too small for the network size (network parameters are overfitting to the training data).\n",
        "\n",
        "We have added BatchNorm and Dropout to help with this.\n"
      ]
    },
    {
      "cell_type": "markdown",
      "metadata": {
        "id": "Fp3cz295aGeq"
      },
      "source": [
        "## Fine Tuning\n",
        "\n",
        "Now that we have a partially trained model, let us try to fine tune our model starting from this.\n",
        "\n",
        "We will retain the weights that we have learned so far, but in addition to the weights of the custom head, we will also __unfreeze__ the last 2 convolution blocks (which translates to the last 6 layers (conv + relu + batchnorm).\n"
      ]
    },
    {
      "cell_type": "code",
      "metadata": {
        "id": "tgV7e132UgZt"
      },
      "source": [
        "# model.summary()"
      ],
      "execution_count": null,
      "outputs": []
    },
    {
      "cell_type": "code",
      "metadata": {
        "id": "vqtWWX9QbVBr"
      },
      "source": [
        "# make last 6 layers (last 2 convolution blocks) trainable\n",
        "for layer in base_model.layers[-6:]:\n",
        "    layer.trainable = False\n",
        "\n",
        "optimizer = keras.optimizers.SGD(learning_rate=1e-4, momentum=0.9)\n",
        "model.compile(optimizer=optimizer, loss=\"categorical_crossentropy\", metrics=[\"accuracy\"])"
      ],
      "execution_count": null,
      "outputs": []
    },
    {
      "cell_type": "code",
      "metadata": {
        "id": "tHJFTg8MbjH8",
        "outputId": "593cdbf0-3163-4693-dcb7-9d376afdcd64",
        "colab": {
          "base_uri": "https://localhost:8080/",
          "height": 377
        }
      },
      "source": [
        "history = model.fit(Xtrain, ytrain, batch_size=64, epochs=10, validation_split=0.2)"
      ],
      "execution_count": null,
      "outputs": [
        {
          "output_type": "stream",
          "text": [
            "Epoch 1/10\n",
            "625/625 [==============================] - 9s 15ms/step - loss: 0.9193 - accuracy: 0.6831 - val_loss: 2.5805 - val_accuracy: 0.4257\n",
            "Epoch 2/10\n",
            "625/625 [==============================] - 9s 14ms/step - loss: 0.9183 - accuracy: 0.6836 - val_loss: 2.5726 - val_accuracy: 0.4245\n",
            "Epoch 3/10\n",
            "625/625 [==============================] - 9s 14ms/step - loss: 0.9194 - accuracy: 0.6834 - val_loss: 2.5679 - val_accuracy: 0.4258\n",
            "Epoch 4/10\n",
            "625/625 [==============================] - 9s 14ms/step - loss: 0.9070 - accuracy: 0.6877 - val_loss: 2.5637 - val_accuracy: 0.4273\n",
            "Epoch 5/10\n",
            "625/625 [==============================] - 9s 14ms/step - loss: 0.9024 - accuracy: 0.6854 - val_loss: 2.5640 - val_accuracy: 0.4300\n",
            "Epoch 6/10\n",
            "625/625 [==============================] - 9s 14ms/step - loss: 0.8986 - accuracy: 0.6885 - val_loss: 2.5592 - val_accuracy: 0.4264\n",
            "Epoch 7/10\n",
            "625/625 [==============================] - 9s 14ms/step - loss: 0.9027 - accuracy: 0.6870 - val_loss: 2.5614 - val_accuracy: 0.4285\n",
            "Epoch 8/10\n",
            "625/625 [==============================] - 9s 14ms/step - loss: 0.8934 - accuracy: 0.6908 - val_loss: 2.5541 - val_accuracy: 0.4295\n",
            "Epoch 9/10\n",
            "625/625 [==============================] - 9s 14ms/step - loss: 0.8966 - accuracy: 0.6905 - val_loss: 2.5595 - val_accuracy: 0.4288\n",
            "Epoch 10/10\n",
            "625/625 [==============================] - 9s 14ms/step - loss: 0.8925 - accuracy: 0.6914 - val_loss: 2.5532 - val_accuracy: 0.4300\n"
          ],
          "name": "stdout"
        }
      ]
    },
    {
      "cell_type": "code",
      "metadata": {
        "id": "YmUg16FQd3-l",
        "outputId": "45ebefd3-909d-4d03-fa0a-47749c5884bd",
        "colab": {
          "base_uri": "https://localhost:8080/",
          "height": 369
        }
      },
      "source": [
        "plot_training_curves(history)"
      ],
      "execution_count": null,
      "outputs": [
        {
          "output_type": "display_data",
          "data": {
            "image/png": "[encoded data removed]",
            "text/plain": [
              "<Figure size 720x360 with 2 Axes>"
            ]
          },
          "metadata": {
            "tags": [],
            "needs_background": "light"
          }
        }
      ]
    },
    {
      "cell_type": "code",
      "metadata": {
        "id": "FJXdqURveFMv",
        "outputId": "76700122-a646-4b49-f5cf-dc85f0e591ac",
        "colab": {
          "base_uri": "https://localhost:8080/",
          "height": 51
        }
      },
      "source": [
        "scores = model.evaluate(Xtest, ytest)\n",
        "print(\"test set loss: {:.5f}, accuracy: {:.5f}\".format(scores[0], scores[1]))"
      ],
      "execution_count": null,
      "outputs": [
        {
          "output_type": "stream",
          "text": [
            "313/313 [==============================] - 3s 9ms/step - loss: 2.6349 - accuracy: 0.4259\n",
            "test set loss: 2.63489, accuracy: 0.42590\n"
          ],
          "name": "stdout"
        }
      ]
    },
    {
      "cell_type": "code",
      "metadata": {
        "id": "47FUvLy6elxj"
      },
      "source": [
        ""
      ],
      "execution_count": null,
      "outputs": []
    }
  ]
}